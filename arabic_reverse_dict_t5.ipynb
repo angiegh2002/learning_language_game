{
  "cells": [
    {
      "cell_type": "markdown",
      "metadata": {
        "id": "view-in-github",
        "colab_type": "text"
      },
      "source": [
        "<a href=\"https://colab.research.google.com/github/angiegh2002/language_app/blob/main/arabic_reverse_dict_t5.ipynb\" target=\"_parent\"><img src=\"https://colab.research.google.com/assets/colab-badge.svg\" alt=\"Open In Colab\"/></a>"
      ]
    },
    {
      "cell_type": "code",
      "source": [
        "from google.colab import drive\n",
        "drive.mount('/content/drive')"
      ],
      "metadata": {
        "colab": {
          "base_uri": "https://localhost:8080/"
        },
        "id": "x8s4iKJraKeY",
        "outputId": "936b405d-a91d-43de-d364-88e099cafdfc"
      },
      "execution_count": 13,
      "outputs": [
        {
          "output_type": "stream",
          "name": "stdout",
          "text": [
            "Mounted at /content/drive\n"
          ]
        }
      ]
    },
    {
      "cell_type": "code",
      "execution_count": 1,
      "metadata": {
        "colab": {
          "base_uri": "https://localhost:8080/"
        },
        "id": "-Dzje4DWXHp0",
        "outputId": "3d16e680-71b3-4bfa-e5ea-752e60bfd318"
      },
      "outputs": [
        {
          "output_type": "stream",
          "name": "stdout",
          "text": [
            "\u001b[2K   \u001b[90m━━━━━━━━━━━━━━━━━━━━━━━━━━━━━━━━━━━━━━━━\u001b[0m \u001b[32m363.4/363.4 MB\u001b[0m \u001b[31m3.8 MB/s\u001b[0m eta \u001b[36m0:00:00\u001b[0m\n",
            "\u001b[2K   \u001b[90m━━━━━━━━━━━━━━━━━━━━━━━━━━━━━━━━━━━━━━━━\u001b[0m \u001b[32m13.8/13.8 MB\u001b[0m \u001b[31m23.4 MB/s\u001b[0m eta \u001b[36m0:00:00\u001b[0m\n",
            "\u001b[2K   \u001b[90m━━━━━━━━━━━━━━━━━━━━━━━━━━━━━━━━━━━━━━━━\u001b[0m \u001b[32m24.6/24.6 MB\u001b[0m \u001b[31m30.5 MB/s\u001b[0m eta \u001b[36m0:00:00\u001b[0m\n",
            "\u001b[2K   \u001b[90m━━━━━━━━━━━━━━━━━━━━━━━━━━━━━━━━━━━━━━━━\u001b[0m \u001b[32m883.7/883.7 kB\u001b[0m \u001b[31m24.8 MB/s\u001b[0m eta \u001b[36m0:00:00\u001b[0m\n",
            "\u001b[2K   \u001b[90m━━━━━━━━━━━━━━━━━━━━━━━━━━━━━━━━━━━━━━━━\u001b[0m \u001b[32m664.8/664.8 MB\u001b[0m \u001b[31m2.7 MB/s\u001b[0m eta \u001b[36m0:00:00\u001b[0m\n",
            "\u001b[2K   \u001b[90m━━━━━━━━━━━━━━━━━━━━━━━━━━━━━━━━━━━━━━━━\u001b[0m \u001b[32m211.5/211.5 MB\u001b[0m \u001b[31m3.1 MB/s\u001b[0m eta \u001b[36m0:00:00\u001b[0m\n",
            "\u001b[2K   \u001b[90m━━━━━━━━━━━━━━━━━━━━━━━━━━━━━━━━━━━━━━━━\u001b[0m \u001b[32m56.3/56.3 MB\u001b[0m \u001b[31m8.6 MB/s\u001b[0m eta \u001b[36m0:00:00\u001b[0m\n",
            "\u001b[2K   \u001b[90m━━━━━━━━━━━━━━━━━━━━━━━━━━━━━━━━━━━━━━━━\u001b[0m \u001b[32m127.9/127.9 MB\u001b[0m \u001b[31m8.0 MB/s\u001b[0m eta \u001b[36m0:00:00\u001b[0m\n",
            "\u001b[2K   \u001b[90m━━━━━━━━━━━━━━━━━━━━━━━━━━━━━━━━━━━━━━━━\u001b[0m \u001b[32m207.5/207.5 MB\u001b[0m \u001b[31m5.2 MB/s\u001b[0m eta \u001b[36m0:00:00\u001b[0m\n",
            "\u001b[2K   \u001b[90m━━━━━━━━━━━━━━━━━━━━━━━━━━━━━━━━━━━━━━━━\u001b[0m \u001b[32m21.1/21.1 MB\u001b[0m \u001b[31m21.5 MB/s\u001b[0m eta \u001b[36m0:00:00\u001b[0m\n",
            "\u001b[?25h"
          ]
        }
      ],
      "source": [
        "!pip install transformers datasets accelerate -q"
      ]
    },
    {
      "cell_type": "code",
      "source": [
        "!curl -X GET  \"https://huggingface.co/api/datasets/riotu-lab/arabic_reverse_dictionary/parquet/default/train\""
      ],
      "metadata": {
        "colab": {
          "base_uri": "https://localhost:8080/"
        },
        "id": "07Cf2iCkZ9qH",
        "outputId": "df6283e5-b4c0-4358-a210-a9dc7729eecf"
      },
      "execution_count": 12,
      "outputs": [
        {
          "output_type": "stream",
          "name": "stdout",
          "text": [
            "[\"https://huggingface.co/api/datasets/riotu-lab/arabic_reverse_dictionary/parquet/default/train/0.parquet\"]"
          ]
        }
      ]
    },
    {
      "cell_type": "code",
      "execution_count": 20,
      "metadata": {
        "id": "5W2_cUDWXHp4"
      },
      "outputs": [],
      "source": [
        "import matplotlib.pyplot as plt\n",
        "import pandas as pd\n",
        "\n",
        "dataset = pd.read_parquet(\"/content/data.parquet\")\n"
      ]
    },
    {
      "cell_type": "code",
      "source": [
        "dataset.head()"
      ],
      "metadata": {
        "colab": {
          "base_uri": "https://localhost:8080/",
          "height": 206
        },
        "id": "ZO4TR_mpbnHR",
        "outputId": "ca326b00-e13b-46ff-f3e7-6f2861311154"
      },
      "execution_count": 21,
      "outputs": [
        {
          "output_type": "execute_result",
          "data": {
            "text/plain": [
              "              word                                         definition\n",
              "0       تمنيع ذاتي  تحريض لاستجابة مناعية لبعض مكونات العضوية [الك...\n",
              "1  مَسارٌ هاملتوني  مسار يمر عبر كل رأس في رسم بياني دون تكرار أي ...\n",
              "2           الكلمة  أصغر وحدة لغوية تحمل معنى مستقل ويمكن استخدامه...\n",
              "3              طرف     الجانبي جمع (طرفَة) وهو الغريبة من التمر [لغة]\n",
              "4            الاسم  كلمة تدل على شيء أو شخص أو مكان وتستخدم عادة ف..."
            ],
            "text/html": [
              "\n",
              "  <div id=\"df-2ac45219-9a95-45a1-ac2a-53da5700d2f7\" class=\"colab-df-container\">\n",
              "    <div>\n",
              "<style scoped>\n",
              "    .dataframe tbody tr th:only-of-type {\n",
              "        vertical-align: middle;\n",
              "    }\n",
              "\n",
              "    .dataframe tbody tr th {\n",
              "        vertical-align: top;\n",
              "    }\n",
              "\n",
              "    .dataframe thead th {\n",
              "        text-align: right;\n",
              "    }\n",
              "</style>\n",
              "<table border=\"1\" class=\"dataframe\">\n",
              "  <thead>\n",
              "    <tr style=\"text-align: right;\">\n",
              "      <th></th>\n",
              "      <th>word</th>\n",
              "      <th>definition</th>\n",
              "    </tr>\n",
              "  </thead>\n",
              "  <tbody>\n",
              "    <tr>\n",
              "      <th>0</th>\n",
              "      <td>تمنيع ذاتي</td>\n",
              "      <td>تحريض لاستجابة مناعية لبعض مكونات العضوية [الك...</td>\n",
              "    </tr>\n",
              "    <tr>\n",
              "      <th>1</th>\n",
              "      <td>مَسارٌ هاملتوني</td>\n",
              "      <td>مسار يمر عبر كل رأس في رسم بياني دون تكرار أي ...</td>\n",
              "    </tr>\n",
              "    <tr>\n",
              "      <th>2</th>\n",
              "      <td>الكلمة</td>\n",
              "      <td>أصغر وحدة لغوية تحمل معنى مستقل ويمكن استخدامه...</td>\n",
              "    </tr>\n",
              "    <tr>\n",
              "      <th>3</th>\n",
              "      <td>طرف</td>\n",
              "      <td>الجانبي جمع (طرفَة) وهو الغريبة من التمر [لغة]</td>\n",
              "    </tr>\n",
              "    <tr>\n",
              "      <th>4</th>\n",
              "      <td>الاسم</td>\n",
              "      <td>كلمة تدل على شيء أو شخص أو مكان وتستخدم عادة ف...</td>\n",
              "    </tr>\n",
              "  </tbody>\n",
              "</table>\n",
              "</div>\n",
              "    <div class=\"colab-df-buttons\">\n",
              "\n",
              "  <div class=\"colab-df-container\">\n",
              "    <button class=\"colab-df-convert\" onclick=\"convertToInteractive('df-2ac45219-9a95-45a1-ac2a-53da5700d2f7')\"\n",
              "            title=\"Convert this dataframe to an interactive table.\"\n",
              "            style=\"display:none;\">\n",
              "\n",
              "  <svg xmlns=\"http://www.w3.org/2000/svg\" height=\"24px\" viewBox=\"0 -960 960 960\">\n",
              "    <path d=\"M120-120v-720h720v720H120Zm60-500h600v-160H180v160Zm220 220h160v-160H400v160Zm0 220h160v-160H400v160ZM180-400h160v-160H180v160Zm440 0h160v-160H620v160ZM180-180h160v-160H180v160Zm440 0h160v-160H620v160Z\"/>\n",
              "  </svg>\n",
              "    </button>\n",
              "\n",
              "  <style>\n",
              "    .colab-df-container {\n",
              "      display:flex;\n",
              "      gap: 12px;\n",
              "    }\n",
              "\n",
              "    .colab-df-convert {\n",
              "      background-color: #E8F0FE;\n",
              "      border: none;\n",
              "      border-radius: 50%;\n",
              "      cursor: pointer;\n",
              "      display: none;\n",
              "      fill: #1967D2;\n",
              "      height: 32px;\n",
              "      padding: 0 0 0 0;\n",
              "      width: 32px;\n",
              "    }\n",
              "\n",
              "    .colab-df-convert:hover {\n",
              "      background-color: #E2EBFA;\n",
              "      box-shadow: 0px 1px 2px rgba(60, 64, 67, 0.3), 0px 1px 3px 1px rgba(60, 64, 67, 0.15);\n",
              "      fill: #174EA6;\n",
              "    }\n",
              "\n",
              "    .colab-df-buttons div {\n",
              "      margin-bottom: 4px;\n",
              "    }\n",
              "\n",
              "    [theme=dark] .colab-df-convert {\n",
              "      background-color: #3B4455;\n",
              "      fill: #D2E3FC;\n",
              "    }\n",
              "\n",
              "    [theme=dark] .colab-df-convert:hover {\n",
              "      background-color: #434B5C;\n",
              "      box-shadow: 0px 1px 3px 1px rgba(0, 0, 0, 0.15);\n",
              "      filter: drop-shadow(0px 1px 2px rgba(0, 0, 0, 0.3));\n",
              "      fill: #FFFFFF;\n",
              "    }\n",
              "  </style>\n",
              "\n",
              "    <script>\n",
              "      const buttonEl =\n",
              "        document.querySelector('#df-2ac45219-9a95-45a1-ac2a-53da5700d2f7 button.colab-df-convert');\n",
              "      buttonEl.style.display =\n",
              "        google.colab.kernel.accessAllowed ? 'block' : 'none';\n",
              "\n",
              "      async function convertToInteractive(key) {\n",
              "        const element = document.querySelector('#df-2ac45219-9a95-45a1-ac2a-53da5700d2f7');\n",
              "        const dataTable =\n",
              "          await google.colab.kernel.invokeFunction('convertToInteractive',\n",
              "                                                    [key], {});\n",
              "        if (!dataTable) return;\n",
              "\n",
              "        const docLinkHtml = 'Like what you see? Visit the ' +\n",
              "          '<a target=\"_blank\" href=https://colab.research.google.com/notebooks/data_table.ipynb>data table notebook</a>'\n",
              "          + ' to learn more about interactive tables.';\n",
              "        element.innerHTML = '';\n",
              "        dataTable['output_type'] = 'display_data';\n",
              "        await google.colab.output.renderOutput(dataTable, element);\n",
              "        const docLink = document.createElement('div');\n",
              "        docLink.innerHTML = docLinkHtml;\n",
              "        element.appendChild(docLink);\n",
              "      }\n",
              "    </script>\n",
              "  </div>\n",
              "\n",
              "\n",
              "    <div id=\"df-28fec4d0-08bf-49ac-a05a-36f7c7794a81\">\n",
              "      <button class=\"colab-df-quickchart\" onclick=\"quickchart('df-28fec4d0-08bf-49ac-a05a-36f7c7794a81')\"\n",
              "                title=\"Suggest charts\"\n",
              "                style=\"display:none;\">\n",
              "\n",
              "<svg xmlns=\"http://www.w3.org/2000/svg\" height=\"24px\"viewBox=\"0 0 24 24\"\n",
              "     width=\"24px\">\n",
              "    <g>\n",
              "        <path d=\"M19 3H5c-1.1 0-2 .9-2 2v14c0 1.1.9 2 2 2h14c1.1 0 2-.9 2-2V5c0-1.1-.9-2-2-2zM9 17H7v-7h2v7zm4 0h-2V7h2v10zm4 0h-2v-4h2v4z\"/>\n",
              "    </g>\n",
              "</svg>\n",
              "      </button>\n",
              "\n",
              "<style>\n",
              "  .colab-df-quickchart {\n",
              "      --bg-color: #E8F0FE;\n",
              "      --fill-color: #1967D2;\n",
              "      --hover-bg-color: #E2EBFA;\n",
              "      --hover-fill-color: #174EA6;\n",
              "      --disabled-fill-color: #AAA;\n",
              "      --disabled-bg-color: #DDD;\n",
              "  }\n",
              "\n",
              "  [theme=dark] .colab-df-quickchart {\n",
              "      --bg-color: #3B4455;\n",
              "      --fill-color: #D2E3FC;\n",
              "      --hover-bg-color: #434B5C;\n",
              "      --hover-fill-color: #FFFFFF;\n",
              "      --disabled-bg-color: #3B4455;\n",
              "      --disabled-fill-color: #666;\n",
              "  }\n",
              "\n",
              "  .colab-df-quickchart {\n",
              "    background-color: var(--bg-color);\n",
              "    border: none;\n",
              "    border-radius: 50%;\n",
              "    cursor: pointer;\n",
              "    display: none;\n",
              "    fill: var(--fill-color);\n",
              "    height: 32px;\n",
              "    padding: 0;\n",
              "    width: 32px;\n",
              "  }\n",
              "\n",
              "  .colab-df-quickchart:hover {\n",
              "    background-color: var(--hover-bg-color);\n",
              "    box-shadow: 0 1px 2px rgba(60, 64, 67, 0.3), 0 1px 3px 1px rgba(60, 64, 67, 0.15);\n",
              "    fill: var(--button-hover-fill-color);\n",
              "  }\n",
              "\n",
              "  .colab-df-quickchart-complete:disabled,\n",
              "  .colab-df-quickchart-complete:disabled:hover {\n",
              "    background-color: var(--disabled-bg-color);\n",
              "    fill: var(--disabled-fill-color);\n",
              "    box-shadow: none;\n",
              "  }\n",
              "\n",
              "  .colab-df-spinner {\n",
              "    border: 2px solid var(--fill-color);\n",
              "    border-color: transparent;\n",
              "    border-bottom-color: var(--fill-color);\n",
              "    animation:\n",
              "      spin 1s steps(1) infinite;\n",
              "  }\n",
              "\n",
              "  @keyframes spin {\n",
              "    0% {\n",
              "      border-color: transparent;\n",
              "      border-bottom-color: var(--fill-color);\n",
              "      border-left-color: var(--fill-color);\n",
              "    }\n",
              "    20% {\n",
              "      border-color: transparent;\n",
              "      border-left-color: var(--fill-color);\n",
              "      border-top-color: var(--fill-color);\n",
              "    }\n",
              "    30% {\n",
              "      border-color: transparent;\n",
              "      border-left-color: var(--fill-color);\n",
              "      border-top-color: var(--fill-color);\n",
              "      border-right-color: var(--fill-color);\n",
              "    }\n",
              "    40% {\n",
              "      border-color: transparent;\n",
              "      border-right-color: var(--fill-color);\n",
              "      border-top-color: var(--fill-color);\n",
              "    }\n",
              "    60% {\n",
              "      border-color: transparent;\n",
              "      border-right-color: var(--fill-color);\n",
              "    }\n",
              "    80% {\n",
              "      border-color: transparent;\n",
              "      border-right-color: var(--fill-color);\n",
              "      border-bottom-color: var(--fill-color);\n",
              "    }\n",
              "    90% {\n",
              "      border-color: transparent;\n",
              "      border-bottom-color: var(--fill-color);\n",
              "    }\n",
              "  }\n",
              "</style>\n",
              "\n",
              "      <script>\n",
              "        async function quickchart(key) {\n",
              "          const quickchartButtonEl =\n",
              "            document.querySelector('#' + key + ' button');\n",
              "          quickchartButtonEl.disabled = true;  // To prevent multiple clicks.\n",
              "          quickchartButtonEl.classList.add('colab-df-spinner');\n",
              "          try {\n",
              "            const charts = await google.colab.kernel.invokeFunction(\n",
              "                'suggestCharts', [key], {});\n",
              "          } catch (error) {\n",
              "            console.error('Error during call to suggestCharts:', error);\n",
              "          }\n",
              "          quickchartButtonEl.classList.remove('colab-df-spinner');\n",
              "          quickchartButtonEl.classList.add('colab-df-quickchart-complete');\n",
              "        }\n",
              "        (() => {\n",
              "          let quickchartButtonEl =\n",
              "            document.querySelector('#df-28fec4d0-08bf-49ac-a05a-36f7c7794a81 button');\n",
              "          quickchartButtonEl.style.display =\n",
              "            google.colab.kernel.accessAllowed ? 'block' : 'none';\n",
              "        })();\n",
              "      </script>\n",
              "    </div>\n",
              "\n",
              "    </div>\n",
              "  </div>\n"
            ],
            "application/vnd.google.colaboratory.intrinsic+json": {
              "type": "dataframe",
              "variable_name": "dataset",
              "summary": "{\n  \"name\": \"dataset\",\n  \"rows\": 58607,\n  \"fields\": [\n    {\n      \"column\": \"word\",\n      \"properties\": {\n        \"dtype\": \"string\",\n        \"num_unique_values\": 35616,\n        \"samples\": [\n          \"\\u062f\\u064a\\u0627\\u0631\\u064b\\u0627\",\n          \"\\u0627\\u0644\\u0642\\u0628\\u064e\\u0651\\u0627\\u0644\\u0627\\u0647\",\n          \"\\u0627\\u0644\\u0645\\u0641\\u0647\\u0648\\u0645 \\u0627\\u0644\\u0643\\u0644\\u064a\"\n        ],\n        \"semantic_type\": \"\",\n        \"description\": \"\"\n      }\n    },\n    {\n      \"column\": \"definition\",\n      \"properties\": {\n        \"dtype\": \"string\",\n        \"num_unique_values\": 58496,\n        \"samples\": [\n          \"\\u062a\\u0631\\u062f\\u064a\\u062f \\u0627\\u0644\\u0639\\u0628\\u0627\\u0631\\u0627\\u062a \\u0627\\u0644\\u062a\\u064a \\u062a\\u0634\\u0645\\u0644 \\u062a\\u0633\\u0628\\u064a\\u062d \\u0627\\u0644\\u0644\\u0647 \\u0648\\u0630\\u0643\\u0631 \\u0623\\u0633\\u0645\\u0627\\u0626\\u0647 \\u0627\\u0644\\u062d\\u0633\\u0646\\u0649 [\\u0631\\u0648\\u062d\\u0627\\u0646\\u064a\\u0627\\u062a]\",\n          \"\\u0647\\u064a \\u0627\\u0644\\u0646\\u0642\\u0627\\u0637 \\u0627\\u0644\\u062a\\u064a \\u062a\\u0642\\u0639 \\u0639\\u0644\\u0649 \\u062e\\u0637 \\u0645\\u0633\\u062a\\u0642\\u064a\\u0645 \\u0648\\u0627\\u062d\\u062f\\u060c \\u0645\\u0645\\u0627 \\u064a\\u0639\\u0646\\u064a \\u0623\\u0646\\u0647\\u0627 \\u062a\\u062a\\u0634\\u0627\\u0631\\u0643 \\u0641\\u064a \\u0646\\u0641\\u0633 \\u0627\\u0644\\u0627\\u062a\\u062c\\u0627\\u0647. [\\u0627\\u0644\\u0647\\u0646\\u062f\\u0633\\u0629]\",\n          \"\\u0645\\u062d\\u0644\\u0648\\u0644 \\u064a\\u062d\\u0648\\u064a \\u0648\\u0632\\u0646\\u0627 \\u0645\\u0643\\u0627\\u0641\\u0626\\u0627 \\u0645\\u0646 \\u0645\\u0627\\u062f\\u0629 \\u0645\\u0630\\u0627\\u0628\\u0629 \\u0641\\u064a \\u0644\\u064a\\u062a\\u0631 \\u0645\\u0646\\u0647. [\\u0627\\u0644\\u0643\\u064a\\u0645\\u064a\\u0627\\u0621 \\u0627\\u0644\\u062a\\u062d\\u0644\\u064a\\u0644\\u064a\\u0629]\"\n        ],\n        \"semantic_type\": \"\",\n        \"description\": \"\"\n      }\n    }\n  ]\n}"
            }
          },
          "metadata": {},
          "execution_count": 21
        }
      ]
    },
    {
      "cell_type": "code",
      "source": [
        "dataset.shape"
      ],
      "metadata": {
        "colab": {
          "base_uri": "https://localhost:8080/"
        },
        "id": "96fe0Pc1bnQw",
        "outputId": "556d7614-b17f-4ad8-815d-0a28c2ec33d2"
      },
      "execution_count": 22,
      "outputs": [
        {
          "output_type": "execute_result",
          "data": {
            "text/plain": [
              "(58607, 2)"
            ]
          },
          "metadata": {},
          "execution_count": 22
        }
      ]
    },
    {
      "cell_type": "code",
      "source": [
        "import matplotlib.pyplot as plt\n",
        "import pandas as pd\n",
        "def_lengths = [len(str(row['definition']).split()) for index, row in dataset.iterrows() if row['definition'] is not None]\n",
        "word_lengths = [len(str(row['word'])) for index, row in dataset.iterrows() if row['word'] is not None]\n",
        "\n",
        "plt.hist(def_lengths, bins=30)\n",
        "plt.title(\"Distribution of Definition Lengths\")\n",
        "plt.xlabel(\"Number of words\")\n",
        "plt.ylabel(\"Count\")\n",
        "plt.show()\n",
        "\n",
        "plt.hist(word_lengths, bins=30)\n",
        "plt.title(\"Distribution of Word Lengths\")\n",
        "plt.xlabel(\"Number of characters\")\n",
        "plt.ylabel(\"Count\")\n",
        "plt.show()"
      ],
      "metadata": {
        "colab": {
          "base_uri": "https://localhost:8080/",
          "height": 927
        },
        "id": "6f1iCXFXbnUT",
        "outputId": "4c25e5c3-5560-4ab7-d91c-7bbdcef7e6a0"
      },
      "execution_count": 25,
      "outputs": [
        {
          "output_type": "display_data",
          "data": {
            "text/plain": [
              "<Figure size 640x480 with 1 Axes>"
            ],
            "image/png": "[encoded data removed]"
          },
          "metadata": {}
        },
        {
          "output_type": "display_data",
          "data": {
            "text/plain": [
              "<Figure size 640x480 with 1 Axes>"
            ],
            "image/png": "[encoded data removed]"
          },
          "metadata": {}
        }
      ]
    },
    {
      "cell_type": "code",
      "source": [
        "definitions = [row['definition'] for index, row in dataset.iterrows()]\n",
        "words = [row['word'] for index, row in dataset.iterrows()]\n",
        "\n",
        "print(f\"Missing definitions: {sum([d is None for d in definitions])}\")\n",
        "print(f\"Missing words: {sum([w is None for w in words])}\")\n",
        "\n",
        "print(f\"Unique words: {len(set(words))}\")"
      ],
      "metadata": {
        "colab": {
          "base_uri": "https://localhost:8080/"
        },
        "id": "s9Tf-p0VbnYC",
        "outputId": "8c0438fa-b800-44d2-e147-b992285a846b"
      },
      "execution_count": 28,
      "outputs": [
        {
          "output_type": "stream",
          "name": "stdout",
          "text": [
            "Missing definitions: 0\n",
            "Missing words: 2\n",
            "Unique words: 35617\n"
          ]
        }
      ]
    },
    {
      "cell_type": "code",
      "source": [
        "dataset_clean = dataset.dropna(subset=['word'])\n",
        "print(f\"بعد التنظيف: {len(dataset_clean)} صف\")\n"
      ],
      "metadata": {
        "id": "nQPsXR7QcyJL",
        "outputId": "f298fcff-5713-4c36-908e-d92dd5ea1636",
        "colab": {
          "base_uri": "https://localhost:8080/"
        }
      },
      "execution_count": 29,
      "outputs": [
        {
          "output_type": "stream",
          "name": "stdout",
          "text": [
            "بعد التنظيف: 58605 صف\n"
          ]
        }
      ]
    },
    {
      "cell_type": "code",
      "source": [
        "dataset_clean.duplicated().sum()"
      ],
      "metadata": {
        "id": "yPFOIhPSc8Fd",
        "outputId": "899c8c76-9f9f-4031-c875-8d0b4d806780",
        "colab": {
          "base_uri": "https://localhost:8080/"
        }
      },
      "execution_count": 30,
      "outputs": [
        {
          "output_type": "execute_result",
          "data": {
            "text/plain": [
              "np.int64(61)"
            ]
          },
          "metadata": {},
          "execution_count": 30
        }
      ]
    },
    {
      "cell_type": "code",
      "source": [
        "dataset_clean = dataset_clean.drop_duplicates()\n",
        "print(f\"بعد التنظيف: {len(dataset_clean)} صف\")"
      ],
      "metadata": {
        "id": "Uqu_idMfc80c",
        "outputId": "ca960114-5b84-481f-c07f-755dd08f5ceb",
        "colab": {
          "base_uri": "https://localhost:8080/"
        }
      },
      "execution_count": 31,
      "outputs": [
        {
          "output_type": "stream",
          "name": "stdout",
          "text": [
            "بعد التنظيف: 58544 صف\n"
          ]
        }
      ]
    },
    {
      "cell_type": "code",
      "source": [
        "def preprocess(row):\n",
        "    return pd.Series({\n",
        "        \"input_text\": f\"reverse: {row['word']}\",\n",
        "        \"target_text\": row['definition']\n",
        "    })\n",
        "\n",
        "processed_df = dataset_clean.apply(preprocess, axis=1)\n"
      ],
      "metadata": {
        "id": "e1W_7FuNc8Ot"
      },
      "execution_count": 33,
      "outputs": []
    },
    {
      "cell_type": "code",
      "source": [
        "processed_df"
      ],
      "metadata": {
        "id": "G6aOZITEc8Yt",
        "outputId": "38f7b91f-acd6-4bf1-e237-1f66962daecf",
        "colab": {
          "base_uri": "https://localhost:8080/",
          "height": 423
        }
      },
      "execution_count": 34,
      "outputs": [
        {
          "output_type": "execute_result",
          "data": {
            "text/plain": [
              "                                       input_text  \\\n",
              "0                             reverse: تمنيع ذاتي   \n",
              "1                        reverse: مَسارٌ هاملتوني   \n",
              "2                                 reverse: الكلمة   \n",
              "3                                    reverse: طرف   \n",
              "4                                  reverse: الاسم   \n",
              "...                                           ...   \n",
              "58602                          reverse: الاستفهام   \n",
              "58603                reverse: السَّعْي إِذا كَانَ   \n",
              "58604                            reverse: الحاجات   \n",
              "58605                       reverse: مُبَرّد بيني   \n",
              "58606  reverse: مُبَرْهَنةُ التَّمْدِيدِ لِتِيتُس   \n",
              "\n",
              "                                             target_text  \n",
              "0      تحريض لاستجابة مناعية لبعض مكونات العضوية [الك...  \n",
              "1      مسار يمر عبر كل رأس في رسم بياني دون تكرار أي ...  \n",
              "2      أصغر وحدة لغوية تحمل معنى مستقل ويمكن استخدامه...  \n",
              "3         الجانبي جمع (طرفَة) وهو الغريبة من التمر [لغة]  \n",
              "4      كلمة تدل على شيء أو شخص أو مكان وتستخدم عادة ف...  \n",
              "...                                                  ...  \n",
              "58602                      طلب معرفة شيء أو تأكيده [لغة]  \n",
              "58603  التعبير عن المضي الجري والسعي نحو شيء ما [لغة،...  \n",
              "58604  المتطلبات الأساسية أو الضرورية للإنسان [اجتماع...  \n",
              "58605  مبادل حراري لتبريد الهواء بين مراحل الضغط المت...  \n",
              "58606  مبرهنة تتعلق بتمديد الدوال المستمرة وتختص بمجا...  \n",
              "\n",
              "[58544 rows x 2 columns]"
            ],
            "text/html": [
              "\n",
              "  <div id=\"df-4fb2fa07-0eb1-49c0-b08d-8571f86cb8a2\" class=\"colab-df-container\">\n",
              "    <div>\n",
              "<style scoped>\n",
              "    .dataframe tbody tr th:only-of-type {\n",
              "        vertical-align: middle;\n",
              "    }\n",
              "\n",
              "    .dataframe tbody tr th {\n",
              "        vertical-align: top;\n",
              "    }\n",
              "\n",
              "    .dataframe thead th {\n",
              "        text-align: right;\n",
              "    }\n",
              "</style>\n",
              "<table border=\"1\" class=\"dataframe\">\n",
              "  <thead>\n",
              "    <tr style=\"text-align: right;\">\n",
              "      <th></th>\n",
              "      <th>input_text</th>\n",
              "      <th>target_text</th>\n",
              "    </tr>\n",
              "  </thead>\n",
              "  <tbody>\n",
              "    <tr>\n",
              "      <th>0</th>\n",
              "      <td>reverse: تمنيع ذاتي</td>\n",
              "      <td>تحريض لاستجابة مناعية لبعض مكونات العضوية [الك...</td>\n",
              "    </tr>\n",
              "    <tr>\n",
              "      <th>1</th>\n",
              "      <td>reverse: مَسارٌ هاملتوني</td>\n",
              "      <td>مسار يمر عبر كل رأس في رسم بياني دون تكرار أي ...</td>\n",
              "    </tr>\n",
              "    <tr>\n",
              "      <th>2</th>\n",
              "      <td>reverse: الكلمة</td>\n",
              "      <td>أصغر وحدة لغوية تحمل معنى مستقل ويمكن استخدامه...</td>\n",
              "    </tr>\n",
              "    <tr>\n",
              "      <th>3</th>\n",
              "      <td>reverse: طرف</td>\n",
              "      <td>الجانبي جمع (طرفَة) وهو الغريبة من التمر [لغة]</td>\n",
              "    </tr>\n",
              "    <tr>\n",
              "      <th>4</th>\n",
              "      <td>reverse: الاسم</td>\n",
              "      <td>كلمة تدل على شيء أو شخص أو مكان وتستخدم عادة ف...</td>\n",
              "    </tr>\n",
              "    <tr>\n",
              "      <th>...</th>\n",
              "      <td>...</td>\n",
              "      <td>...</td>\n",
              "    </tr>\n",
              "    <tr>\n",
              "      <th>58602</th>\n",
              "      <td>reverse: الاستفهام</td>\n",
              "      <td>طلب معرفة شيء أو تأكيده [لغة]</td>\n",
              "    </tr>\n",
              "    <tr>\n",
              "      <th>58603</th>\n",
              "      <td>reverse: السَّعْي إِذا كَانَ</td>\n",
              "      <td>التعبير عن المضي الجري والسعي نحو شيء ما [لغة،...</td>\n",
              "    </tr>\n",
              "    <tr>\n",
              "      <th>58604</th>\n",
              "      <td>reverse: الحاجات</td>\n",
              "      <td>المتطلبات الأساسية أو الضرورية للإنسان [اجتماع...</td>\n",
              "    </tr>\n",
              "    <tr>\n",
              "      <th>58605</th>\n",
              "      <td>reverse: مُبَرّد بيني</td>\n",
              "      <td>مبادل حراري لتبريد الهواء بين مراحل الضغط المت...</td>\n",
              "    </tr>\n",
              "    <tr>\n",
              "      <th>58606</th>\n",
              "      <td>reverse: مُبَرْهَنةُ التَّمْدِيدِ لِتِيتُس</td>\n",
              "      <td>مبرهنة تتعلق بتمديد الدوال المستمرة وتختص بمجا...</td>\n",
              "    </tr>\n",
              "  </tbody>\n",
              "</table>\n",
              "<p>58544 rows × 2 columns</p>\n",
              "</div>\n",
              "    <div class=\"colab-df-buttons\">\n",
              "\n",
              "  <div class=\"colab-df-container\">\n",
              "    <button class=\"colab-df-convert\" onclick=\"convertToInteractive('df-4fb2fa07-0eb1-49c0-b08d-8571f86cb8a2')\"\n",
              "            title=\"Convert this dataframe to an interactive table.\"\n",
              "            style=\"display:none;\">\n",
              "\n",
              "  <svg xmlns=\"http://www.w3.org/2000/svg\" height=\"24px\" viewBox=\"0 -960 960 960\">\n",
              "    <path d=\"M120-120v-720h720v720H120Zm60-500h600v-160H180v160Zm220 220h160v-160H400v160Zm0 220h160v-160H400v160ZM180-400h160v-160H180v160Zm440 0h160v-160H620v160ZM180-180h160v-160H180v160Zm440 0h160v-160H620v160Z\"/>\n",
              "  </svg>\n",
              "    </button>\n",
              "\n",
              "  <style>\n",
              "    .colab-df-container {\n",
              "      display:flex;\n",
              "      gap: 12px;\n",
              "    }\n",
              "\n",
              "    .colab-df-convert {\n",
              "      background-color: #E8F0FE;\n",
              "      border: none;\n",
              "      border-radius: 50%;\n",
              "      cursor: pointer;\n",
              "      display: none;\n",
              "      fill: #1967D2;\n",
              "      height: 32px;\n",
              "      padding: 0 0 0 0;\n",
              "      width: 32px;\n",
              "    }\n",
              "\n",
              "    .colab-df-convert:hover {\n",
              "      background-color: #E2EBFA;\n",
              "      box-shadow: 0px 1px 2px rgba(60, 64, 67, 0.3), 0px 1px 3px 1px rgba(60, 64, 67, 0.15);\n",
              "      fill: #174EA6;\n",
              "    }\n",
              "\n",
              "    .colab-df-buttons div {\n",
              "      margin-bottom: 4px;\n",
              "    }\n",
              "\n",
              "    [theme=dark] .colab-df-convert {\n",
              "      background-color: #3B4455;\n",
              "      fill: #D2E3FC;\n",
              "    }\n",
              "\n",
              "    [theme=dark] .colab-df-convert:hover {\n",
              "      background-color: #434B5C;\n",
              "      box-shadow: 0px 1px 3px 1px rgba(0, 0, 0, 0.15);\n",
              "      filter: drop-shadow(0px 1px 2px rgba(0, 0, 0, 0.3));\n",
              "      fill: #FFFFFF;\n",
              "    }\n",
              "  </style>\n",
              "\n",
              "    <script>\n",
              "      const buttonEl =\n",
              "        document.querySelector('#df-4fb2fa07-0eb1-49c0-b08d-8571f86cb8a2 button.colab-df-convert');\n",
              "      buttonEl.style.display =\n",
              "        google.colab.kernel.accessAllowed ? 'block' : 'none';\n",
              "\n",
              "      async function convertToInteractive(key) {\n",
              "        const element = document.querySelector('#df-4fb2fa07-0eb1-49c0-b08d-8571f86cb8a2');\n",
              "        const dataTable =\n",
              "          await google.colab.kernel.invokeFunction('convertToInteractive',\n",
              "                                                    [key], {});\n",
              "        if (!dataTable) return;\n",
              "\n",
              "        const docLinkHtml = 'Like what you see? Visit the ' +\n",
              "          '<a target=\"_blank\" href=https://colab.research.google.com/notebooks/data_table.ipynb>data table notebook</a>'\n",
              "          + ' to learn more about interactive tables.';\n",
              "        element.innerHTML = '';\n",
              "        dataTable['output_type'] = 'display_data';\n",
              "        await google.colab.output.renderOutput(dataTable, element);\n",
              "        const docLink = document.createElement('div');\n",
              "        docLink.innerHTML = docLinkHtml;\n",
              "        element.appendChild(docLink);\n",
              "      }\n",
              "    </script>\n",
              "  </div>\n",
              "\n",
              "\n",
              "    <div id=\"df-5dfea5b3-9bed-46d1-958e-68bb40067dda\">\n",
              "      <button class=\"colab-df-quickchart\" onclick=\"quickchart('df-5dfea5b3-9bed-46d1-958e-68bb40067dda')\"\n",
              "                title=\"Suggest charts\"\n",
              "                style=\"display:none;\">\n",
              "\n",
              "<svg xmlns=\"http://www.w3.org/2000/svg\" height=\"24px\"viewBox=\"0 0 24 24\"\n",
              "     width=\"24px\">\n",
              "    <g>\n",
              "        <path d=\"M19 3H5c-1.1 0-2 .9-2 2v14c0 1.1.9 2 2 2h14c1.1 0 2-.9 2-2V5c0-1.1-.9-2-2-2zM9 17H7v-7h2v7zm4 0h-2V7h2v10zm4 0h-2v-4h2v4z\"/>\n",
              "    </g>\n",
              "</svg>\n",
              "      </button>\n",
              "\n",
              "<style>\n",
              "  .colab-df-quickchart {\n",
              "      --bg-color: #E8F0FE;\n",
              "      --fill-color: #1967D2;\n",
              "      --hover-bg-color: #E2EBFA;\n",
              "      --hover-fill-color: #174EA6;\n",
              "      --disabled-fill-color: #AAA;\n",
              "      --disabled-bg-color: #DDD;\n",
              "  }\n",
              "\n",
              "  [theme=dark] .colab-df-quickchart {\n",
              "      --bg-color: #3B4455;\n",
              "      --fill-color: #D2E3FC;\n",
              "      --hover-bg-color: #434B5C;\n",
              "      --hover-fill-color: #FFFFFF;\n",
              "      --disabled-bg-color: #3B4455;\n",
              "      --disabled-fill-color: #666;\n",
              "  }\n",
              "\n",
              "  .colab-df-quickchart {\n",
              "    background-color: var(--bg-color);\n",
              "    border: none;\n",
              "    border-radius: 50%;\n",
              "    cursor: pointer;\n",
              "    display: none;\n",
              "    fill: var(--fill-color);\n",
              "    height: 32px;\n",
              "    padding: 0;\n",
              "    width: 32px;\n",
              "  }\n",
              "\n",
              "  .colab-df-quickchart:hover {\n",
              "    background-color: var(--hover-bg-color);\n",
              "    box-shadow: 0 1px 2px rgba(60, 64, 67, 0.3), 0 1px 3px 1px rgba(60, 64, 67, 0.15);\n",
              "    fill: var(--button-hover-fill-color);\n",
              "  }\n",
              "\n",
              "  .colab-df-quickchart-complete:disabled,\n",
              "  .colab-df-quickchart-complete:disabled:hover {\n",
              "    background-color: var(--disabled-bg-color);\n",
              "    fill: var(--disabled-fill-color);\n",
              "    box-shadow: none;\n",
              "  }\n",
              "\n",
              "  .colab-df-spinner {\n",
              "    border: 2px solid var(--fill-color);\n",
              "    border-color: transparent;\n",
              "    border-bottom-color: var(--fill-color);\n",
              "    animation:\n",
              "      spin 1s steps(1) infinite;\n",
              "  }\n",
              "\n",
              "  @keyframes spin {\n",
              "    0% {\n",
              "      border-color: transparent;\n",
              "      border-bottom-color: var(--fill-color);\n",
              "      border-left-color: var(--fill-color);\n",
              "    }\n",
              "    20% {\n",
              "      border-color: transparent;\n",
              "      border-left-color: var(--fill-color);\n",
              "      border-top-color: var(--fill-color);\n",
              "    }\n",
              "    30% {\n",
              "      border-color: transparent;\n",
              "      border-left-color: var(--fill-color);\n",
              "      border-top-color: var(--fill-color);\n",
              "      border-right-color: var(--fill-color);\n",
              "    }\n",
              "    40% {\n",
              "      border-color: transparent;\n",
              "      border-right-color: var(--fill-color);\n",
              "      border-top-color: var(--fill-color);\n",
              "    }\n",
              "    60% {\n",
              "      border-color: transparent;\n",
              "      border-right-color: var(--fill-color);\n",
              "    }\n",
              "    80% {\n",
              "      border-color: transparent;\n",
              "      border-right-color: var(--fill-color);\n",
              "      border-bottom-color: var(--fill-color);\n",
              "    }\n",
              "    90% {\n",
              "      border-color: transparent;\n",
              "      border-bottom-color: var(--fill-color);\n",
              "    }\n",
              "  }\n",
              "</style>\n",
              "\n",
              "      <script>\n",
              "        async function quickchart(key) {\n",
              "          const quickchartButtonEl =\n",
              "            document.querySelector('#' + key + ' button');\n",
              "          quickchartButtonEl.disabled = true;  // To prevent multiple clicks.\n",
              "          quickchartButtonEl.classList.add('colab-df-spinner');\n",
              "          try {\n",
              "            const charts = await google.colab.kernel.invokeFunction(\n",
              "                'suggestCharts', [key], {});\n",
              "          } catch (error) {\n",
              "            console.error('Error during call to suggestCharts:', error);\n",
              "          }\n",
              "          quickchartButtonEl.classList.remove('colab-df-spinner');\n",
              "          quickchartButtonEl.classList.add('colab-df-quickchart-complete');\n",
              "        }\n",
              "        (() => {\n",
              "          let quickchartButtonEl =\n",
              "            document.querySelector('#df-5dfea5b3-9bed-46d1-958e-68bb40067dda button');\n",
              "          quickchartButtonEl.style.display =\n",
              "            google.colab.kernel.accessAllowed ? 'block' : 'none';\n",
              "        })();\n",
              "      </script>\n",
              "    </div>\n",
              "\n",
              "  <div id=\"id_07bddbbf-9a86-4c1f-befc-5abd0cb45378\">\n",
              "    <style>\n",
              "      .colab-df-generate {\n",
              "        background-color: #E8F0FE;\n",
              "        border: none;\n",
              "        border-radius: 50%;\n",
              "        cursor: pointer;\n",
              "        display: none;\n",
              "        fill: #1967D2;\n",
              "        height: 32px;\n",
              "        padding: 0 0 0 0;\n",
              "        width: 32px;\n",
              "      }\n",
              "\n",
              "      .colab-df-generate:hover {\n",
              "        background-color: #E2EBFA;\n",
              "        box-shadow: 0px 1px 2px rgba(60, 64, 67, 0.3), 0px 1px 3px 1px rgba(60, 64, 67, 0.15);\n",
              "        fill: #174EA6;\n",
              "      }\n",
              "\n",
              "      [theme=dark] .colab-df-generate {\n",
              "        background-color: #3B4455;\n",
              "        fill: #D2E3FC;\n",
              "      }\n",
              "\n",
              "      [theme=dark] .colab-df-generate:hover {\n",
              "        background-color: #434B5C;\n",
              "        box-shadow: 0px 1px 3px 1px rgba(0, 0, 0, 0.15);\n",
              "        filter: drop-shadow(0px 1px 2px rgba(0, 0, 0, 0.3));\n",
              "        fill: #FFFFFF;\n",
              "      }\n",
              "    </style>\n",
              "    <button class=\"colab-df-generate\" onclick=\"generateWithVariable('processed_df')\"\n",
              "            title=\"Generate code using this dataframe.\"\n",
              "            style=\"display:none;\">\n",
              "\n",
              "  <svg xmlns=\"http://www.w3.org/2000/svg\" height=\"24px\"viewBox=\"0 0 24 24\"\n",
              "       width=\"24px\">\n",
              "    <path d=\"M7,19H8.4L18.45,9,17,7.55,7,17.6ZM5,21V16.75L18.45,3.32a2,2,0,0,1,2.83,0l1.4,1.43a1.91,1.91,0,0,1,.58,1.4,1.91,1.91,0,0,1-.58,1.4L9.25,21ZM18.45,9,17,7.55Zm-12,3A5.31,5.31,0,0,0,4.9,8.1,5.31,5.31,0,0,0,1,6.5,5.31,5.31,0,0,0,4.9,4.9,5.31,5.31,0,0,0,6.5,1,5.31,5.31,0,0,0,8.1,4.9,5.31,5.31,0,0,0,12,6.5,5.46,5.46,0,0,0,6.5,12Z\"/>\n",
              "  </svg>\n",
              "    </button>\n",
              "    <script>\n",
              "      (() => {\n",
              "      const buttonEl =\n",
              "        document.querySelector('#id_07bddbbf-9a86-4c1f-befc-5abd0cb45378 button.colab-df-generate');\n",
              "      buttonEl.style.display =\n",
              "        google.colab.kernel.accessAllowed ? 'block' : 'none';\n",
              "\n",
              "      buttonEl.onclick = () => {\n",
              "        google.colab.notebook.generateWithVariable('processed_df');\n",
              "      }\n",
              "      })();\n",
              "    </script>\n",
              "  </div>\n",
              "\n",
              "    </div>\n",
              "  </div>\n"
            ],
            "application/vnd.google.colaboratory.intrinsic+json": {
              "type": "dataframe",
              "variable_name": "processed_df",
              "summary": "{\n  \"name\": \"processed_df\",\n  \"rows\": 58544,\n  \"fields\": [\n    {\n      \"column\": \"input_text\",\n      \"properties\": {\n        \"dtype\": \"string\",\n        \"num_unique_values\": 35616,\n        \"samples\": [\n          \"reverse: \\u062f\\u064a\\u0627\\u0631\\u064b\\u0627\",\n          \"reverse: \\u0627\\u0644\\u0642\\u0628\\u064e\\u0651\\u0627\\u0644\\u0627\\u0647\",\n          \"reverse: \\u0627\\u0644\\u0645\\u0641\\u0647\\u0648\\u0645 \\u0627\\u0644\\u0643\\u0644\\u064a\"\n        ],\n        \"semantic_type\": \"\",\n        \"description\": \"\"\n      }\n    },\n    {\n      \"column\": \"target_text\",\n      \"properties\": {\n        \"dtype\": \"string\",\n        \"num_unique_values\": 58494,\n        \"samples\": [\n          \"\\u0627\\u0644\\u0645\\u0631\\u062d\\u0644\\u0629 \\u0627\\u0644\\u0623\\u062e\\u064a\\u0631\\u0629 \\u0645\\u0646 \\u0627\\u0644\\u0639\\u0635\\u0648\\u0631 \\u0627\\u0644\\u0648\\u0633\\u0637\\u0649 \\u0627\\u0644\\u062a\\u064a \\u062a\\u0645\\u062b\\u0644 \\u0642\\u0631\\u0628 \\u0627\\u0644\\u0627\\u0646\\u062a\\u0642\\u0627\\u0644 \\u0625\\u0644\\u0649 \\u0627\\u0644\\u0639\\u0635\\u0631 \\u0627\\u0644\\u062d\\u062f\\u064a\\u062b [\\u062a\\u0627\\u0631\\u064a\\u062e]\",\n          \"\\u0627\\u062c\\u062a\\u0647\\u0627\\u062f: \\u0647\\u0648 \\u0628\\u0630\\u0644 \\u0627\\u0644\\u062c\\u0647\\u062f \\u0644\\u0644\\u0648\\u0635\\u0648\\u0644 \\u0625\\u0644\\u0649 \\u062d\\u0643\\u0645 \\u0634\\u0631\\u0639\\u064a \\u0623\\u0648 \\u0641\\u0647\\u0645 \\u0645\\u0639\\u064a\\u0646 [\\u0641\\u0642\\u0647]\",\n          \"\\u0645\\u0631\\u0643\\u0628 \\u064a\\u062d\\u062a\\u0648\\u064a \\u0639\\u0644\\u0649 \\u0623\\u064a\\u0648\\u0646 \\u0627\\u0644\\u0633\\u064a\\u0627\\u0646\\u064a\\u062f\\u060c \\u064a\\u062a\\u0643\\u0648\\u0646 \\u0645\\u0646 \\u0627\\u0644\\u0633\\u064a\\u0627\\u0646\\u0648\\u062c\\u064a\\u0646 \\u0645\\u0639 \\u0639\\u0646\\u0635\\u0631 \\u0643\\u0647\\u0631 \\u062c\\u0627\\u0628\\u064a \\u0648\\u0623\\u0643\\u062b\\u0631 [\\u0627\\u0644\\u0643\\u064a\\u0645\\u064a\\u0627\\u0621 \\u063a\\u064a\\u0631 \\u0627\\u0644\\u0639\\u0636\\u0648\\u064a\\u0629]\"\n        ],\n        \"semantic_type\": \"\",\n        \"description\": \"\"\n      }\n    }\n  ]\n}"
            }
          },
          "metadata": {},
          "execution_count": 34
        }
      ]
    },
    {
      "cell_type": "code",
      "source": [],
      "metadata": {
        "id": "xnU6aECfc8c2"
      },
      "execution_count": null,
      "outputs": []
    },
    {
      "cell_type": "code",
      "source": [],
      "metadata": {
        "id": "7jOVrXx1c8gk"
      },
      "execution_count": null,
      "outputs": []
    },
    {
      "cell_type": "code",
      "source": [],
      "metadata": {
        "id": "QYF43Tf9c8kp"
      },
      "execution_count": null,
      "outputs": []
    },
    {
      "cell_type": "code",
      "execution_count": null,
      "metadata": {
        "id": "R0g6JnFwXHp7"
      },
      "outputs": [],
      "source": [
        "definitions = [x['definition'] for x in dataset['train']]\n",
        "words = [x['word'] for x in dataset['train']]\n",
        "\n",
        "print(\"عدد الأمثلة:\", len(definitions))\n",
        "print(\"أول مثال:\", dataset['train'][0])\n",
        "\n",
        "def_lengths = [len(defn.split()) for defn in definitions]\n",
        "plt.hist(def_lengths, bins=30)\n",
        "plt.title(\"توزيع طول التعاريف\")\n",
        "plt.xlabel(\"عدد الكلمات\")\n",
        "plt.ylabel(\"عدد الأمثلة\")\n",
        "plt.show()"
      ]
    },
    {
      "cell_type": "code",
      "execution_count": null,
      "metadata": {
        "id": "-LVcBFanXHp8"
      },
      "outputs": [],
      "source": [
        "def preprocess(example):\n",
        "    return {\n",
        "        \"input_text\": f\"reverse: {example['word']}\",\n",
        "        \"target_text\": example['definition']\n",
        "    }\n",
        "\n",
        "processed_dataset = dataset.map(preprocess)"
      ]
    },
    {
      "cell_type": "code",
      "execution_count": null,
      "metadata": {
        "id": "wYM5tpuaXHp9"
      },
      "outputs": [],
      "source": [
        "from transformers import AutoTokenizer\n",
        "\n",
        "tokenizer = AutoTokenizer.from_pretrained(\"cahya/t5-small-arabic\")\n",
        "\n",
        "split_dataset = processed_dataset[\"train\"].train_test_split(test_size=0.1)\n",
        "train_dataset = split_dataset[\"train\"]\n",
        "eval_dataset = split_dataset[\"test\"]\n",
        "\n",
        "def tokenize(batch):\n",
        "    input_encodings = tokenizer(batch['input_text'], truncation=True, padding=\"max_length\", max_length=64)\n",
        "    target_encodings = tokenizer(batch['target_text'], truncation=True, padding=\"max_length\", max_length=64)\n",
        "    input_encodings[\"labels\"] = target_encodings[\"input_ids\"]\n",
        "    return input_encodings\n",
        "\n",
        "tokenized_train = train_dataset.map(tokenize, batched=True)\n",
        "tokenized_eval = eval_dataset.map(tokenize, batched=True)"
      ]
    },
    {
      "cell_type": "code",
      "execution_count": null,
      "metadata": {
        "id": "c-VqDkkyXHp_"
      },
      "outputs": [],
      "source": [
        "from transformers import AutoModelForSeq2SeqLM, Seq2SeqTrainingArguments, Seq2SeqTrainer\n",
        "\n",
        "model = AutoModelForSeq2SeqLM.from_pretrained(\"cahya/t5-small-arabic\")\n",
        "\n",
        "training_args = Seq2SeqTrainingArguments(\n",
        "    output_dir=\"./t5_arabic_reverse\",\n",
        "    evaluation_strategy=\"epoch\",\n",
        "    learning_rate=2e-5,\n",
        "    per_device_train_batch_size=16,\n",
        "    per_device_eval_batch_size=16,\n",
        "    num_train_epochs=3,\n",
        "    weight_decay=0.01,\n",
        "    save_total_limit=2,\n",
        "    predict_with_generate=True,\n",
        "    logging_dir='./logs',\n",
        "    logging_steps=100,\n",
        ")"
      ]
    },
    {
      "cell_type": "code",
      "execution_count": null,
      "metadata": {
        "id": "K1r_D3eFXHqA"
      },
      "outputs": [],
      "source": [
        "trainer = Seq2SeqTrainer(\n",
        "    model=model,\n",
        "    args=training_args,\n",
        "    train_dataset=tokenized_train,\n",
        "    eval_dataset=tokenized_eval,\n",
        "    tokenizer=tokenizer,\n",
        ")\n",
        "\n",
        "trainer.train()"
      ]
    },
    {
      "cell_type": "code",
      "execution_count": null,
      "metadata": {
        "id": "GL0jQ6QhXHqB"
      },
      "outputs": [],
      "source": [
        "def predict_definition(word):\n",
        "    input_text = f\"reverse: {word}\"\n",
        "    input_ids = tokenizer(input_text, return_tensors=\"pt\").input_ids\n",
        "    output_ids = model.generate(input_ids, max_length=64)\n",
        "    return tokenizer.decode(output_ids[0], skip_special_tokens=True)\n",
        "\n",
        "print(predict_definition(\"قلم\"))\n",
        "print(predict_definition(\"كتاب\"))\n",
        "print(predict_definition(\"حاسوب\"))"
      ]
    },
    {
      "cell_type": "code",
      "execution_count": null,
      "metadata": {
        "id": "ciWVmT19XHqC"
      },
      "outputs": [],
      "source": [
        "model.save_pretrained(\"reverse_dict_t5_arabic\")\n",
        "tokenizer.save_pretrained(\"reverse_dict_t5_arabic\")"
      ]
    }
  ],
  "metadata": {
    "kernelspec": {
      "display_name": "Python 3",
      "language": "python",
      "name": "python3"
    },
    "language_info": {
      "name": "python",
      "version": "3.9"
    },
    "colab": {
      "provenance": [],
      "include_colab_link": true
    }
  },
  "nbformat": 4,
  "nbformat_minor": 0
}